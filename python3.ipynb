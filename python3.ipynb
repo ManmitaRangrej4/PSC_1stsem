{
 "cells": [
  {
   "cell_type": "code",
   "execution_count": 1,
   "id": "23b06461-198e-402a-b5ed-4e9bf05ea2c7",
   "metadata": {},
   "outputs": [],
   "source": [
    "name = \"Manmita Rangrej\""
   ]
  },
  {
   "cell_type": "code",
   "execution_count": 2,
   "id": "a2c9dae9-8ae6-4012-8a2d-127b5e0c77c4",
   "metadata": {},
   "outputs": [
    {
     "data": {
      "text/plain": [
       "'Manmita Rangrej'"
      ]
     },
     "execution_count": 2,
     "metadata": {},
     "output_type": "execute_result"
    }
   ],
   "source": [
    "name"
   ]
  },
  {
   "cell_type": "code",
   "execution_count": 3,
   "id": "b7249190-bdd7-41b4-aaa5-53d5afca75c1",
   "metadata": {},
   "outputs": [],
   "source": [
    "#convert it into capslock"
   ]
  },
  {
   "cell_type": "code",
   "execution_count": 11,
   "id": "6b45965b-eaa8-4360-848c-b8f5eb8763f8",
   "metadata": {},
   "outputs": [
    {
     "ename": "NameError",
     "evalue": "name 'capital' is not defined",
     "output_type": "error",
     "traceback": [
      "\u001b[0;31m---------------------------------------------------------------------------\u001b[0m",
      "\u001b[0;31mNameError\u001b[0m                                 Traceback (most recent call last)",
      "Cell \u001b[0;32mIn[11], line 1\u001b[0m\n\u001b[0;32m----> 1\u001b[0m name(capital)\n",
      "\u001b[0;31mNameError\u001b[0m: name 'capital' is not defined"
     ]
    }
   ],
   "source": [
    "name(capital)"
   ]
  },
  {
   "cell_type": "code",
   "execution_count": 9,
   "id": "ef58f44d-edb5-407b-8b4c-ece5ac559711",
   "metadata": {},
   "outputs": [
    {
     "ename": "SyntaxError",
     "evalue": "invalid syntax (2805250969.py, line 1)",
     "output_type": "error",
     "traceback": [
      "\u001b[0;36m  Cell \u001b[0;32mIn[9], line 1\u001b[0;36m\u001b[0m\n\u001b[0;31m    name(print).(capital)\u001b[0m\n\u001b[0m                ^\u001b[0m\n\u001b[0;31mSyntaxError\u001b[0m\u001b[0;31m:\u001b[0m invalid syntax\n"
     ]
    }
   ],
   "source": [
    "name(print).(capital) "
   ]
  },
  {
   "cell_type": "code",
   "execution_count": 15,
   "id": "ac3380b3-5389-4fbf-926b-4546070412d8",
   "metadata": {},
   "outputs": [
    {
     "data": {
      "text/plain": [
       "'MANMITA RANGREJ'"
      ]
     },
     "execution_count": 15,
     "metadata": {},
     "output_type": "execute_result"
    }
   ],
   "source": [
    "name.upper()"
   ]
  },
  {
   "cell_type": "code",
   "execution_count": 14,
   "id": "8153f01b-ea70-4378-b687-9a6ad99a28c4",
   "metadata": {},
   "outputs": [
    {
     "data": {
      "text/plain": [
       "'manmita rangrej'"
      ]
     },
     "execution_count": 14,
     "metadata": {},
     "output_type": "execute_result"
    }
   ],
   "source": [
    "name.lower()"
   ]
  },
  {
   "cell_type": "code",
   "execution_count": 17,
   "id": "ab872677-6dc6-4de5-a417-fbd007e1c0d4",
   "metadata": {},
   "outputs": [],
   "source": [
    "name1 = \"MAnMita RAngReJ\""
   ]
  },
  {
   "cell_type": "code",
   "execution_count": 18,
   "id": "245bab89-0a72-414c-90a3-cc563ea01d3b",
   "metadata": {},
   "outputs": [
    {
     "data": {
      "text/plain": [
       "'MAnMita RAngReJ'"
      ]
     },
     "execution_count": 18,
     "metadata": {},
     "output_type": "execute_result"
    }
   ],
   "source": [
    "name1"
   ]
  },
  {
   "cell_type": "code",
   "execution_count": 21,
   "id": "943d12ae-3599-4d4f-b085-90005300573f",
   "metadata": {},
   "outputs": [
    {
     "data": {
      "text/plain": [
       "'maNmITA raNGrEj'"
      ]
     },
     "execution_count": 21,
     "metadata": {},
     "output_type": "execute_result"
    }
   ],
   "source": [
    "name1.swapcase()"
   ]
  },
  {
   "cell_type": "code",
   "execution_count": 22,
   "id": "e76bed78-8c3e-4839-8867-9ec3787f0231",
   "metadata": {},
   "outputs": [],
   "source": [
    "name2 = \"     Manmita   Rangrej    \""
   ]
  },
  {
   "cell_type": "code",
   "execution_count": 24,
   "id": "fd6f1d14-069a-4246-b0d7-ad006a313248",
   "metadata": {},
   "outputs": [
    {
     "data": {
      "text/plain": [
       "'     Manmita   Rangrej    '"
      ]
     },
     "execution_count": 24,
     "metadata": {},
     "output_type": "execute_result"
    }
   ],
   "source": [
    "name2"
   ]
  },
  {
   "cell_type": "code",
   "execution_count": 26,
   "id": "215b78fb-94d1-408f-b57f-905400d5a961",
   "metadata": {},
   "outputs": [],
   "source": [
    "#1. remove left space\n",
    "#2. remove right space\n",
    "#3. remove both left and right space"
   ]
  },
  {
   "cell_type": "code",
   "execution_count": 27,
   "id": "0162d047-5331-4d0c-bea5-9d4dceba703f",
   "metadata": {},
   "outputs": [
    {
     "ename": "AttributeError",
     "evalue": "'str' object has no attribute 'removepreffix'",
     "output_type": "error",
     "traceback": [
      "\u001b[0;31m---------------------------------------------------------------------------\u001b[0m",
      "\u001b[0;31mAttributeError\u001b[0m                            Traceback (most recent call last)",
      "Cell \u001b[0;32mIn[27], line 1\u001b[0m\n\u001b[0;32m----> 1\u001b[0m name2\u001b[38;5;241m.\u001b[39mremovepreffix()\n",
      "\u001b[0;31mAttributeError\u001b[0m: 'str' object has no attribute 'removepreffix'"
     ]
    }
   ],
   "source": [
    "name2.removepreffix()"
   ]
  },
  {
   "cell_type": "code",
   "execution_count": 28,
   "id": "90a22837-7af0-4f06-bbc3-255761a41ca0",
   "metadata": {},
   "outputs": [
    {
     "data": {
      "text/plain": [
       "'Manmita   Rangrej    '"
      ]
     },
     "execution_count": 28,
     "metadata": {},
     "output_type": "execute_result"
    }
   ],
   "source": [
    "name2.lstrip()"
   ]
  },
  {
   "cell_type": "code",
   "execution_count": 31,
   "id": "a8d04965-0554-4aa5-966d-820e3b3afd02",
   "metadata": {},
   "outputs": [
    {
     "data": {
      "text/plain": [
       "'     Manmita   Rangrej'"
      ]
     },
     "execution_count": 31,
     "metadata": {},
     "output_type": "execute_result"
    }
   ],
   "source": [
    "name2.rstrip()"
   ]
  },
  {
   "cell_type": "code",
   "execution_count": 32,
   "id": "8b4dc169-af8e-47ba-a578-6c527ea1be65",
   "metadata": {},
   "outputs": [],
   "source": [
    "name3 = \"Manmita Rangrej\""
   ]
  },
  {
   "cell_type": "code",
   "execution_count": 33,
   "id": "5ca7ba93-359a-4fe2-8753-e07a41375cd5",
   "metadata": {},
   "outputs": [
    {
     "ename": "SyntaxError",
     "evalue": "invalid syntax (3068134316.py, line 2)",
     "output_type": "error",
     "traceback": [
      "\u001b[0;36m  Cell \u001b[0;32mIn[33], line 2\u001b[0;36m\u001b[0m\n\u001b[0;31m    ****Manmita Rangrej****\u001b[0m\n\u001b[0m    ^\u001b[0m\n\u001b[0;31mSyntaxError\u001b[0m\u001b[0;31m:\u001b[0m invalid syntax\n"
     ]
    }
   ],
   "source": [
    "#bring the outoup\n",
    "****Manmita Rangrej****"
   ]
  },
  {
   "cell_type": "code",
   "execution_count": 37,
   "id": "26dbcdbb-748f-43c1-a6b3-fcad170efd04",
   "metadata": {},
   "outputs": [
    {
     "data": {
      "text/plain": [
       "'*****************Manmita Rangrej******************'"
      ]
     },
     "execution_count": 37,
     "metadata": {},
     "output_type": "execute_result"
    }
   ],
   "source": [
    "name3.center(50, '*')"
   ]
  },
  {
   "cell_type": "code",
   "execution_count": 39,
   "id": "f69ac315-dec8-49cd-92fa-902d00984f25",
   "metadata": {},
   "outputs": [
    {
     "data": {
      "text/plain": [
       "'*******Manmita Rangrej********'"
      ]
     },
     "execution_count": 39,
     "metadata": {},
     "output_type": "execute_result"
    }
   ],
   "source": [
    "name3.center(30, '*')"
   ]
  },
  {
   "cell_type": "code",
   "execution_count": 40,
   "id": "7f0f3517-938d-4153-b048-44a772f373a9",
   "metadata": {},
   "outputs": [
    {
     "data": {
      "text/plain": [
       "False"
      ]
     },
     "execution_count": 40,
     "metadata": {},
     "output_type": "execute_result"
    }
   ],
   "source": [
    "name3.isupper()"
   ]
  },
  {
   "cell_type": "code",
   "execution_count": 42,
   "id": "30370998-ca2a-4aaa-8127-44ceff80377c",
   "metadata": {},
   "outputs": [],
   "source": [
    "name4 = \"MANMITA\""
   ]
  },
  {
   "cell_type": "code",
   "execution_count": 43,
   "id": "6a996abc-42a3-4eac-993c-f46fb1e0558f",
   "metadata": {},
   "outputs": [
    {
     "data": {
      "text/plain": [
       "True"
      ]
     },
     "execution_count": 43,
     "metadata": {},
     "output_type": "execute_result"
    }
   ],
   "source": [
    "name4.isupper()"
   ]
  },
  {
   "cell_type": "code",
   "execution_count": null,
   "id": "5484f142-8377-46d7-8211-0cb6d85c2ecc",
   "metadata": {},
   "outputs": [],
   "source": []
  }
 ],
 "metadata": {
  "kernelspec": {
   "display_name": "Python 3 (ipykernel)",
   "language": "python",
   "name": "python3"
  },
  "language_info": {
   "codemirror_mode": {
    "name": "ipython",
    "version": 3
   },
   "file_extension": ".py",
   "mimetype": "text/x-python",
   "name": "python",
   "nbconvert_exporter": "python",
   "pygments_lexer": "ipython3",
   "version": "3.12.4"
  }
 },
 "nbformat": 4,
 "nbformat_minor": 5
}
