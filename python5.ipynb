{
 "cells": [
  {
   "cell_type": "code",
   "execution_count": 1,
   "id": "ef052d77-5b5a-43b8-a1a7-d43bf5714171",
   "metadata": {},
   "outputs": [],
   "source": [
    "a = 2"
   ]
  },
  {
   "cell_type": "code",
   "execution_count": 4,
   "id": "f8de540d-cdf6-45e2-b5f7-b6a947230c0e",
   "metadata": {},
   "outputs": [
    {
     "name": "stdout",
     "output_type": "stream",
     "text": [
      "2\n"
     ]
    }
   ],
   "source": [
    "print(a)"
   ]
  },
  {
   "cell_type": "code",
   "execution_count": 5,
   "id": "2e070243-c4cd-4c76-981b-65b5893e74a9",
   "metadata": {},
   "outputs": [
    {
     "name": "stdout",
     "output_type": "stream",
     "text": [
      "Manmita Rangrej\n"
     ]
    }
   ],
   "source": [
    "print(\"Manmita Rangrej\")"
   ]
  },
  {
   "cell_type": "code",
   "execution_count": 6,
   "id": "3f98b8e5-525f-47a7-a78a-2419479c68c2",
   "metadata": {},
   "outputs": [],
   "source": [
    "name = \"Manmita Rangrej\""
   ]
  },
  {
   "cell_type": "code",
   "execution_count": 7,
   "id": "7b50aec7-768d-4298-b6bc-4e92470d4fa5",
   "metadata": {},
   "outputs": [
    {
     "name": "stdout",
     "output_type": "stream",
     "text": [
      "Manmita Rangrej\n"
     ]
    }
   ],
   "source": [
    "print(name)"
   ]
  },
  {
   "cell_type": "code",
   "execution_count": 8,
   "id": "0b4a84ee-b399-47e3-a246-2e532658c000",
   "metadata": {},
   "outputs": [
    {
     "data": {
      "text/plain": [
       "'Manmita Rangrej'"
      ]
     },
     "execution_count": 8,
     "metadata": {},
     "output_type": "execute_result"
    }
   ],
   "source": [
    "name"
   ]
  },
  {
   "cell_type": "code",
   "execution_count": 11,
   "id": "c02c6ddb-8fdf-41bd-9a06-19d8d93a592f",
   "metadata": {},
   "outputs": [],
   "source": [
    "a, b, c = 5,4,7"
   ]
  },
  {
   "cell_type": "code",
   "execution_count": 18,
   "id": "aa25ac73-94dc-41cc-aaa1-96c00d64600e",
   "metadata": {},
   "outputs": [],
   "source": [
    "a = b = c = 7"
   ]
  },
  {
   "cell_type": "code",
   "execution_count": 19,
   "id": "a851e270-5fd0-420c-80e4-d8043d2f5e3a",
   "metadata": {},
   "outputs": [
    {
     "name": "stdout",
     "output_type": "stream",
     "text": [
      "7 7 7\n"
     ]
    }
   ],
   "source": [
    "print(a, b, c)"
   ]
  },
  {
   "cell_type": "code",
   "execution_count": 20,
   "id": "4ceeaa7f-53e4-4ba7-80c0-b500988ff3d3",
   "metadata": {},
   "outputs": [
    {
     "name": "stdout",
     "output_type": "stream",
     "text": [
      "7,7,7\n"
     ]
    }
   ],
   "source": [
    "print(a, b, c, sep=',')"
   ]
  },
  {
   "cell_type": "code",
   "execution_count": 21,
   "id": "069b89ca-d74d-4be4-bccb-86e4b7529513",
   "metadata": {},
   "outputs": [
    {
     "name": "stdout",
     "output_type": "stream",
     "text": [
      "7@7@7\n"
     ]
    }
   ],
   "source": [
    "print(a, b, c, sep='@')"
   ]
  },
  {
   "cell_type": "code",
   "execution_count": 22,
   "id": "90c98d69-739b-40af-8c28-50696b37a6a0",
   "metadata": {},
   "outputs": [
    {
     "name": "stdout",
     "output_type": "stream",
     "text": [
      "777\n"
     ]
    }
   ],
   "source": [
    "print(a,b,c, sep=\"\")"
   ]
  },
  {
   "cell_type": "code",
   "execution_count": 26,
   "id": "2afbbcbb-4f29-426e-b443-1e47ba250cd3",
   "metadata": {},
   "outputs": [
    {
     "name": "stdout",
     "output_type": "stream",
     "text": [
      "Manmita Rangrej@Sanjiv Rangrej\n"
     ]
    }
   ],
   "source": [
    "print('Manmita Rangrej',end='@')\n",
    "print(\"Sanjiv Rangrej\")"
   ]
  },
  {
   "cell_type": "code",
   "execution_count": 27,
   "id": "cc8de50b-e656-4ed0-b0bf-3d430289329c",
   "metadata": {},
   "outputs": [
    {
     "name": "stdout",
     "output_type": "stream",
     "text": [
      "Manmita Rangrej\tSanjiv Rangrej\n"
     ]
    }
   ],
   "source": [
    "print('Manmita Rangrej',end=\"\\t\")\n",
    "print(\"Sanjiv Rangrej\")"
   ]
  },
  {
   "cell_type": "code",
   "execution_count": null,
   "id": "fb2f9a55-7514-487a-8cb0-297baf26f37c",
   "metadata": {},
   "outputs": [],
   "source": [
    "# write code to add 2 no.s\n",
    "print(\"Enter the number: \")\n",
    "a = int(input(\"input the value of a\"))\n",
    "b = int(input(\"input the value of b\"))\n",
    "c = a + b\n",
    "print(c)"
   ]
  },
  {
   "cell_type": "code",
   "execution_count": null,
   "id": "fd193e46-e4a3-46f4-acf2-237f3a5d4aed",
   "metadata": {},
   "outputs": [],
   "source": []
  }
 ],
 "metadata": {
  "kernelspec": {
   "display_name": "Python 3 (ipykernel)",
   "language": "python",
   "name": "python3"
  },
  "language_info": {
   "codemirror_mode": {
    "name": "ipython",
    "version": 3
   },
   "file_extension": ".py",
   "mimetype": "text/x-python",
   "name": "python",
   "nbconvert_exporter": "python",
   "pygments_lexer": "ipython3",
   "version": "3.12.4"
  }
 },
 "nbformat": 4,
 "nbformat_minor": 5
}
