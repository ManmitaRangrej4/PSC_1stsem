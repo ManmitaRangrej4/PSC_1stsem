{
 "cells": [
  {
   "cell_type": "code",
   "execution_count": 1,
   "id": "d782cad3-e059-47cd-93bc-aa62750c95b3",
   "metadata": {},
   "outputs": [],
   "source": [
    "a = []"
   ]
  },
  {
   "cell_type": "code",
   "execution_count": 2,
   "id": "9a4c770c-35f8-42db-a935-bf263ad96aa4",
   "metadata": {},
   "outputs": [
    {
     "data": {
      "text/plain": [
       "list"
      ]
     },
     "execution_count": 2,
     "metadata": {},
     "output_type": "execute_result"
    }
   ],
   "source": [
    "type(a)"
   ]
  },
  {
   "cell_type": "code",
   "execution_count": 3,
   "id": "39a1daba-89fa-4eee-9fd0-b391e9239883",
   "metadata": {},
   "outputs": [],
   "source": [
    "a = [1, 4, 6, 9,\"Manmita\", 39.6, True,\"Sanjiv\", 369]"
   ]
  },
  {
   "cell_type": "code",
   "execution_count": 4,
   "id": "ece99a8f-50d8-44ae-95c8-357e8b85e95e",
   "metadata": {},
   "outputs": [
    {
     "data": {
      "text/plain": [
       "list"
      ]
     },
     "execution_count": 4,
     "metadata": {},
     "output_type": "execute_result"
    }
   ],
   "source": [
    "type(a)"
   ]
  },
  {
   "cell_type": "code",
   "execution_count": null,
   "id": "ea92ae83-97dd-4ebf-950f-c179963c8529",
   "metadata": {},
   "outputs": [],
   "source": [
    "# Access 39.6 from a"
   ]
  },
  {
   "cell_type": "code",
   "execution_count": 9,
   "id": "10e0a159-b4f3-4de4-a208-b6584d3f39e5",
   "metadata": {},
   "outputs": [
    {
     "data": {
      "text/plain": [
       "39.6"
      ]
     },
     "execution_count": 9,
     "metadata": {},
     "output_type": "execute_result"
    }
   ],
   "source": [
    "a[5]"
   ]
  },
  {
   "cell_type": "code",
   "execution_count": 11,
   "id": "da26023d-f846-4b85-955b-5fb0dfb8f7b8",
   "metadata": {},
   "outputs": [
    {
     "data": {
      "text/plain": [
       "'Sanjiv'"
      ]
     },
     "execution_count": 11,
     "metadata": {},
     "output_type": "execute_result"
    }
   ],
   "source": [
    "a[7]"
   ]
  },
  {
   "cell_type": "code",
   "execution_count": 12,
   "id": "5a4b0e73-4a18-468e-a4c2-df1959574415",
   "metadata": {},
   "outputs": [
    {
     "data": {
      "text/plain": [
       "float"
      ]
     },
     "execution_count": 12,
     "metadata": {},
     "output_type": "execute_result"
    }
   ],
   "source": [
    "type(39.6)"
   ]
  },
  {
   "cell_type": "code",
   "execution_count": 13,
   "id": "3832e051-a0bd-477e-88ba-2deecb246e6f",
   "metadata": {},
   "outputs": [
    {
     "data": {
      "text/plain": [
       "int"
      ]
     },
     "execution_count": 13,
     "metadata": {},
     "output_type": "execute_result"
    }
   ],
   "source": [
    "type(369)"
   ]
  },
  {
   "cell_type": "code",
   "execution_count": 14,
   "id": "c863d56f-3860-49bf-9a7e-4338f0f506dc",
   "metadata": {},
   "outputs": [
    {
     "data": {
      "text/plain": [
       "str"
      ]
     },
     "execution_count": 14,
     "metadata": {},
     "output_type": "execute_result"
    }
   ],
   "source": [
    "type(\"Manmita\")"
   ]
  },
  {
   "cell_type": "code",
   "execution_count": null,
   "id": "82431c67-c78e-40bb-a482-0bf525287ab3",
   "metadata": {},
   "outputs": [],
   "source": [
    "type(t"
   ]
  }
 ],
 "metadata": {
  "kernelspec": {
   "display_name": "Python 3 (ipykernel)",
   "language": "python",
   "name": "python3"
  },
  "language_info": {
   "codemirror_mode": {
    "name": "ipython",
    "version": 3
   },
   "file_extension": ".py",
   "mimetype": "text/x-python",
   "name": "python",
   "nbconvert_exporter": "python",
   "pygments_lexer": "ipython3",
   "version": "3.12.4"
  }
 },
 "nbformat": 4,
 "nbformat_minor": 5
}
