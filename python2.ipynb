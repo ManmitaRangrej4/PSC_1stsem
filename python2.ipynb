{
 "cells": [
  {
   "cell_type": "code",
   "execution_count": 1,
   "id": "23a9af32-bbc1-499e-bd59-ca8c0eb665ce",
   "metadata": {},
   "outputs": [],
   "source": [
    "name = \"Sanjiv Rangrej\""
   ]
  },
  {
   "cell_type": "code",
   "execution_count": 4,
   "id": "d1ea2cc1-790e-4bb9-b89f-4147f7c0f877",
   "metadata": {},
   "outputs": [
    {
     "data": {
      "text/plain": [
       "'jergnaR vijnaS'"
      ]
     },
     "execution_count": 4,
     "metadata": {},
     "output_type": "execute_result"
    }
   ],
   "source": [
    "name[-1:-15:-1]"
   ]
  },
  {
   "cell_type": "code",
   "execution_count": 5,
   "id": "b0dbbaa4-0a7c-4c2c-aded-55aacd6f47bc",
   "metadata": {},
   "outputs": [],
   "source": [
    "name = \"Prasanna baber\""
   ]
  },
  {
   "cell_type": "code",
   "execution_count": 6,
   "id": "8c31b37d-3cc0-4128-800d-b785b6d5db7d",
   "metadata": {},
   "outputs": [
    {
     "data": {
      "text/plain": [
       "'n'"
      ]
     },
     "execution_count": 6,
     "metadata": {},
     "output_type": "execute_result"
    }
   ],
   "source": [
    "name[6]"
   ]
  },
  {
   "cell_type": "code",
   "execution_count": 12,
   "id": "010bd4ef-4c38-4783-8921-6366a3430f06",
   "metadata": {},
   "outputs": [
    {
     "data": {
      "text/plain": [
       "' annas'"
      ]
     },
     "execution_count": 12,
     "metadata": {},
     "output_type": "execute_result"
    }
   ],
   "source": [
    "name[-6:2:-1]"
   ]
  },
  {
   "cell_type": "code",
   "execution_count": 13,
   "id": "8341336f-6ae9-4552-88df-230cd0f39838",
   "metadata": {},
   "outputs": [
    {
     "data": {
      "text/plain": [
       "'anna ba'"
      ]
     },
     "execution_count": 13,
     "metadata": {},
     "output_type": "execute_result"
    }
   ],
   "source": [
    "name[-10:-3:1]"
   ]
  },
  {
   "cell_type": "code",
   "execution_count": 14,
   "id": "6653792e-d082-431f-b353-98f3cbc6c96a",
   "metadata": {},
   "outputs": [
    {
     "data": {
      "text/plain": [
       "'b'"
      ]
     },
     "execution_count": 14,
     "metadata": {},
     "output_type": "execute_result"
    }
   ],
   "source": [
    "name[-3:-1:2]"
   ]
  },
  {
   "cell_type": "code",
   "execution_count": 15,
   "id": "6c9598a4-2d71-4fc9-b4dc-5ed5e7bf724f",
   "metadata": {},
   "outputs": [
    {
     "data": {
      "text/plain": [
       "''"
      ]
     },
     "execution_count": 15,
     "metadata": {},
     "output_type": "execute_result"
    }
   ],
   "source": [
    "name[-5:3:1]"
   ]
  },
  {
   "cell_type": "code",
   "execution_count": 16,
   "id": "2892a5b1-c4e4-46c0-baf8-dd5533068233",
   "metadata": {},
   "outputs": [
    {
     "data": {
      "text/plain": [
       "''"
      ]
     },
     "execution_count": 16,
     "metadata": {},
     "output_type": "execute_result"
    }
   ],
   "source": [
    "name[-5:10:-1]"
   ]
  },
  {
   "cell_type": "code",
   "execution_count": 17,
   "id": "fd569c68-0dae-43d7-b594-a3063b01dcfe",
   "metadata": {},
   "outputs": [
    {
     "data": {
      "text/plain": [
       "'na ba'"
      ]
     },
     "execution_count": 17,
     "metadata": {},
     "output_type": "execute_result"
    }
   ],
   "source": [
    "name[-8:11]"
   ]
  },
  {
   "cell_type": "code",
   "execution_count": 18,
   "id": "a7e6b312-7dc2-420c-ab7c-4bbacd96b735",
   "metadata": {},
   "outputs": [
    {
     "data": {
      "text/plain": [
       "'r'"
      ]
     },
     "execution_count": 18,
     "metadata": {},
     "output_type": "execute_result"
    }
   ],
   "source": [
    "name[13]"
   ]
  },
  {
   "cell_type": "code",
   "execution_count": 19,
   "id": "708a3d28-0bd3-4688-82a6-b27d94748858",
   "metadata": {},
   "outputs": [
    {
     "data": {
      "text/plain": [
       "'na bab'"
      ]
     },
     "execution_count": 19,
     "metadata": {},
     "output_type": "execute_result"
    }
   ],
   "source": [
    "name[6:-2]"
   ]
  },
  {
   "cell_type": "code",
   "execution_count": 20,
   "id": "3b57dbac-a1be-40e1-b92b-9a50d893d4e1",
   "metadata": {},
   "outputs": [
    {
     "data": {
      "text/plain": [
       "'raaar'"
      ]
     },
     "execution_count": 20,
     "metadata": {},
     "output_type": "execute_result"
    }
   ],
   "source": [
    "name[13:-14:-3]"
   ]
  },
  {
   "cell_type": "code",
   "execution_count": 21,
   "id": "66578e51-633d-42f0-b44f-611e91fb37e4",
   "metadata": {},
   "outputs": [
    {
     "data": {
      "text/plain": [
       "'na'"
      ]
     },
     "execution_count": 21,
     "metadata": {},
     "output_type": "execute_result"
    }
   ],
   "source": [
    "name[-8:8]"
   ]
  },
  {
   "cell_type": "code",
   "execution_count": 22,
   "id": "675fee6e-9c6e-48f0-bb7b-50bd3e676fa0",
   "metadata": {},
   "outputs": [
    {
     "data": {
      "text/plain": [
       "''"
      ]
     },
     "execution_count": 22,
     "metadata": {},
     "output_type": "execute_result"
    }
   ],
   "source": [
    "name[-9:0:1]"
   ]
  },
  {
   "cell_type": "code",
   "execution_count": 23,
   "id": "4c5a4067-8a0e-406e-851f-58cada7746be",
   "metadata": {},
   "outputs": [],
   "source": [
    "name = \"Manmita Rangrej\""
   ]
  },
  {
   "cell_type": "code",
   "execution_count": 27,
   "id": "386e575d-0c06-4dd4-a827-1b2ef7ad6bce",
   "metadata": {},
   "outputs": [
    {
     "data": {
      "text/plain": [
       "'jergnaR atimnaM'"
      ]
     },
     "execution_count": 27,
     "metadata": {},
     "output_type": "execute_result"
    }
   ],
   "source": [
    "name[-1::-1]"
   ]
  },
  {
   "cell_type": "code",
   "execution_count": 28,
   "id": "648c7caf-3097-4af3-958a-2b1b5e9539b8",
   "metadata": {},
   "outputs": [
    {
     "data": {
      "text/plain": [
       "'jergnaR atimnaM'"
      ]
     },
     "execution_count": 28,
     "metadata": {},
     "output_type": "execute_result"
    }
   ],
   "source": [
    "name[ : :-1]"
   ]
  },
  {
   "cell_type": "code",
   "execution_count": 29,
   "id": "d99dec5b-25be-4313-9fbd-03c3b1be7f26",
   "metadata": {},
   "outputs": [],
   "source": [
    "name1 = \"Vaishnavi Sharma\""
   ]
  },
  {
   "cell_type": "code",
   "execution_count": 31,
   "id": "bc8c7af3-483d-47ef-acc1-e504362e33e5",
   "metadata": {},
   "outputs": [
    {
     "data": {
      "text/plain": [
       "'Vaishnavi Sharma1511'"
      ]
     },
     "execution_count": 31,
     "metadata": {},
     "output_type": "execute_result"
    }
   ],
   "source": [
    "name1+\"1511\""
   ]
  },
  {
   "cell_type": "code",
   "execution_count": 32,
   "id": "1937c09f-ce33-4a70-9b88-8f98e659840c",
   "metadata": {},
   "outputs": [
    {
     "data": {
      "text/plain": [
       "'Vaishnavi Sharma1511'"
      ]
     },
     "execution_count": 32,
     "metadata": {},
     "output_type": "execute_result"
    }
   ],
   "source": [
    "name1+str(1511)"
   ]
  },
  {
   "cell_type": "code",
   "execution_count": 33,
   "id": "94c3fcad-ed75-4920-bcfb-4ceb61b8ab0d",
   "metadata": {},
   "outputs": [],
   "source": [
    "#find the length of name1"
   ]
  },
  {
   "cell_type": "code",
   "execution_count": 34,
   "id": "d0a8e14c-ddb4-4a47-a89e-5846219c2cc4",
   "metadata": {},
   "outputs": [
    {
     "data": {
      "text/plain": [
       "'Vaishnavi Sharma'"
      ]
     },
     "execution_count": 34,
     "metadata": {},
     "output_type": "execute_result"
    }
   ],
   "source": [
    "name1[0:17]"
   ]
  },
  {
   "cell_type": "code",
   "execution_count": 35,
   "id": "f520751b-6103-41e4-ace2-e80ff09c9215",
   "metadata": {},
   "outputs": [
    {
     "data": {
      "text/plain": [
       "16"
      ]
     },
     "execution_count": 35,
     "metadata": {},
     "output_type": "execute_result"
    }
   ],
   "source": [
    "len(name1)"
   ]
  },
  {
   "cell_type": "code",
   "execution_count": 36,
   "id": "021f4655-c0e4-49bd-96d2-90348ec0048e",
   "metadata": {},
   "outputs": [
    {
     "data": {
      "text/plain": [
       "'Vaishnavi SharmaVaishnavi SharmaVaishnavi SharmaVaishnavi Sharma'"
      ]
     },
     "execution_count": 36,
     "metadata": {},
     "output_type": "execute_result"
    }
   ],
   "source": [
    "name1*4"
   ]
  },
  {
   "cell_type": "code",
   "execution_count": 40,
   "id": "f3cf5aac-65fb-409e-babc-240573ac4947",
   "metadata": {},
   "outputs": [
    {
     "data": {
      "text/plain": [
       "1"
      ]
     },
     "execution_count": 40,
     "metadata": {},
     "output_type": "execute_result"
    }
   ],
   "source": [
    "name1.count('vi')"
   ]
  },
  {
   "cell_type": "code",
   "execution_count": 41,
   "id": "bf2268bf-e809-43e0-acc3-5ec128c0af08",
   "metadata": {},
   "outputs": [
    {
     "data": {
      "text/plain": [
       "['Va', 'shnav', ' Sharma']"
      ]
     },
     "execution_count": 41,
     "metadata": {},
     "output_type": "execute_result"
    }
   ],
   "source": [
    "name1.split('i')"
   ]
  },
  {
   "cell_type": "code",
   "execution_count": 43,
   "id": "e98e7bec-d4ee-4eb9-a4ac-14b04c7be27f",
   "metadata": {},
   "outputs": [
    {
     "data": {
      "text/plain": [
       "['V', 'ishn', 'vi Sh', 'rm', '']"
      ]
     },
     "execution_count": 43,
     "metadata": {},
     "output_type": "execute_result"
    }
   ],
   "source": [
    "name1.split('a')"
   ]
  },
  {
   "cell_type": "code",
   "execution_count": 1,
   "id": "e7e54fdf-f5fd-4109-b614-669b564ff478",
   "metadata": {},
   "outputs": [],
   "source": [
    "name2 = \"Lorem Ipsum is simply dummy text of the printing and typesetting industry. Lorem Ipsum has been the industry's standard dummy text ever since the 1500s, when an unknown printer took a galley of type and scrambled it to make a type specimen book. It has survived not only five centuries, but also the leap into electronic typesetting, remaining essentially unchanged. It was popularised in the 1960s with the release of Letraset sheets containing Lorem Ipsum passages, and more recently with desktop publishing software like Aldus PageMaker including versions of Lorem Ipsum\""
   ]
  },
  {
   "cell_type": "code",
   "execution_count": 3,
   "id": "b90c58ce-c9e8-412a-a184-0240385961f4",
   "metadata": {},
   "outputs": [
    {
     "data": {
      "text/plain": [
       "['Lorem',\n",
       " 'Ipsum',\n",
       " 'is',\n",
       " 'simply',\n",
       " 'dummy',\n",
       " 'text',\n",
       " 'of',\n",
       " 'the',\n",
       " 'printing',\n",
       " 'and',\n",
       " 'typesetting',\n",
       " 'industry.',\n",
       " 'Lorem',\n",
       " 'Ipsum',\n",
       " 'has',\n",
       " 'been',\n",
       " 'the',\n",
       " \"industry's\",\n",
       " 'standard',\n",
       " 'dummy',\n",
       " 'text',\n",
       " 'ever',\n",
       " 'since',\n",
       " 'the',\n",
       " '1500s,',\n",
       " 'when',\n",
       " 'an',\n",
       " 'unknown',\n",
       " 'printer',\n",
       " 'took',\n",
       " 'a',\n",
       " 'galley',\n",
       " 'of',\n",
       " 'type',\n",
       " 'and',\n",
       " 'scrambled',\n",
       " 'it',\n",
       " 'to',\n",
       " 'make',\n",
       " 'a',\n",
       " 'type',\n",
       " 'specimen',\n",
       " 'book.',\n",
       " 'It',\n",
       " 'has',\n",
       " 'survived',\n",
       " 'not',\n",
       " 'only',\n",
       " 'five',\n",
       " 'centuries,',\n",
       " 'but',\n",
       " 'also',\n",
       " 'the',\n",
       " 'leap',\n",
       " 'into',\n",
       " 'electronic',\n",
       " 'typesetting,',\n",
       " 'remaining',\n",
       " 'essentially',\n",
       " 'unchanged.',\n",
       " 'It',\n",
       " 'was',\n",
       " 'popularised',\n",
       " 'in',\n",
       " 'the',\n",
       " '1960s',\n",
       " 'with',\n",
       " 'the',\n",
       " 'release',\n",
       " 'of',\n",
       " 'Letraset',\n",
       " 'sheets',\n",
       " 'containing',\n",
       " 'Lorem',\n",
       " 'Ipsum',\n",
       " 'passages,',\n",
       " 'and',\n",
       " 'more',\n",
       " 'recently',\n",
       " 'with',\n",
       " 'desktop',\n",
       " 'publishing',\n",
       " 'software',\n",
       " 'like',\n",
       " 'Aldus',\n",
       " 'PageMaker',\n",
       " 'including',\n",
       " 'versions',\n",
       " 'of',\n",
       " 'Lorem',\n",
       " 'Ipsum']"
      ]
     },
     "execution_count": 3,
     "metadata": {},
     "output_type": "execute_result"
    }
   ],
   "source": [
    "name2.split(' ')"
   ]
  },
  {
   "cell_type": "code",
   "execution_count": null,
   "id": "a9f2ba9b-17be-4340-8f6c-d39212207a9e",
   "metadata": {},
   "outputs": [],
   "source": []
  }
 ],
 "metadata": {
  "kernelspec": {
   "display_name": "Python 3 (ipykernel)",
   "language": "python",
   "name": "python3"
  },
  "language_info": {
   "codemirror_mode": {
    "name": "ipython",
    "version": 3
   },
   "file_extension": ".py",
   "mimetype": "text/x-python",
   "name": "python",
   "nbconvert_exporter": "python",
   "pygments_lexer": "ipython3",
   "version": "3.12.4"
  }
 },
 "nbformat": 4,
 "nbformat_minor": 5
}
